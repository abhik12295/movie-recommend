{
 "cells": [
  {
   "cell_type": "code",
   "execution_count": 3,
   "id": "featured-sudan",
   "metadata": {},
   "outputs": [],
   "source": [
    "import pandas as pd\n",
    "from sklearn.feature_extraction.text import CountVectorizer\n",
    "from sklearn.metrics.pairwise import cosine_similarity\n",
    "\n",
    "\n",
    "def cos_similarity():\n",
    "    data = pd.read_csv('final_data.csv')\n",
    "    # creating a count matrix\n",
    "    cv = CountVectorizer()\n",
    "    count_matrix = cv.fit_transform(data['comb'])\n",
    "    # creating a similarity score matrix\n",
    "    sim = cosine_similarity(count_matrix)\n",
    "    return data, sim\n",
    "\n",
    "\n",
    "def rcmd(movie):\n",
    "    movie = movie.lower()\n",
    "    # check if data and sim are already assigned\n",
    "    try:\n",
    "        cos_similarity().data.head()\n",
    "        cos_similarity().sim.shape\n",
    "\n",
    "    except:\n",
    "        data, sim = cos_similarity()\n",
    "        \n",
    "        \n",
    "    # check if the movie is in our database or not\n",
    "    if movie not in data['movie_title'].unique():\n",
    "        return 'Sorry! This movie is not in our database. Please check the spelling or try with some other movies'\n",
    "    else:\n",
    "        # getting the index of the movie in the dataframe\n",
    "        i = data.loc[data['movie_title'] == movie].index[0]\n",
    "\n",
    "        # fetching the row containing similarity scores of the movie\n",
    "        # from similarity matrix and enumerate it\n",
    "        lst = list(enumerate(sim[i]))\n",
    "\n",
    "        # sorting this list in decreasing order based on the similarity score\n",
    "        lst = sorted(lst, key=lambda x: x[1], reverse=True)\n",
    "\n",
    "        # taking top 1- movie scores\n",
    "        # not taking the first index since it is the same movie\n",
    "        lst = lst[1:11]\n",
    "\n",
    "        # making an empty list that will containing all 10 movie recommendations\n",
    "        recommended = []\n",
    "        for i in range(len(lst)):\n",
    "            a = lst[i][0]\n",
    "            recommended.append(data['movie_title'][a])\n",
    "        return recommended\n",
    "\n"
   ]
  },
  {
   "cell_type": "code",
   "execution_count": 5,
   "id": "above-diabetes",
   "metadata": {},
   "outputs": [
    {
     "data": {
      "text/plain": [
       "['batman returns',\n",
       " 'raiders of the lost ark',\n",
       " 'batman forever',\n",
       " 'the legend of the lone ranger',\n",
       " 'flash gordon',\n",
       " 'the rock',\n",
       " 'superman iv: the quest for peace',\n",
       " 'falcon rising',\n",
       " 'transformers',\n",
       " 'the omega code']"
      ]
     },
     "execution_count": 5,
     "metadata": {},
     "output_type": "execute_result"
    }
   ],
   "source": [
    "rcmd('batman')"
   ]
  },
  {
   "cell_type": "code",
   "execution_count": 6,
   "id": "solved-venezuela",
   "metadata": {},
   "outputs": [
    {
     "data": {
      "text/plain": [
       "['superman ii',\n",
       " 'superman returns',\n",
       " 'timeline',\n",
       " 'superman iii',\n",
       " 'superman iv: the quest for peace',\n",
       " 'battlefield earth',\n",
       " 'stargate sg-1\\xa0           ',\n",
       " 'krrish',\n",
       " 'revolution\\xa0           ',\n",
       " 'stealth']"
      ]
     },
     "execution_count": 6,
     "metadata": {},
     "output_type": "execute_result"
    }
   ],
   "source": [
    "rcmd('superman')"
   ]
  },
  {
   "cell_type": "code",
   "execution_count": null,
   "id": "innovative-occurrence",
   "metadata": {},
   "outputs": [],
   "source": []
  }
 ],
 "metadata": {
  "kernelspec": {
   "display_name": "Python 3",
   "language": "python",
   "name": "python3"
  },
  "language_info": {
   "codemirror_mode": {
    "name": "ipython",
    "version": 3
   },
   "file_extension": ".py",
   "mimetype": "text/x-python",
   "name": "python",
   "nbconvert_exporter": "python",
   "pygments_lexer": "ipython3",
   "version": "3.9.1"
  }
 },
 "nbformat": 4,
 "nbformat_minor": 5
}
